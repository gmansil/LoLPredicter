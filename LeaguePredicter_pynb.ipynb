{
  "nbformat": 4,
  "nbformat_minor": 0,
  "metadata": {
    "colab": {
      "provenance": [],
      "collapsed_sections": [],
      "mount_file_id": "1LxeXEc8WdxQJbVDcmqnApNsiVLjwcjG6",
      "authorship_tag": "ABX9TyPIBmWfXlNfGcDWFAWxtnbC",
      "include_colab_link": true
    },
    "kernelspec": {
      "name": "python3",
      "display_name": "Python 3"
    },
    "language_info": {
      "name": "python"
    }
  },
  "cells": [
    {
      "cell_type": "markdown",
      "metadata": {
        "id": "view-in-github",
        "colab_type": "text"
      },
      "source": [
        "<a href=\"https://colab.research.google.com/github/gmansil/LoLPredicter/blob/main/LeaguePredicter_pynb.ipynb\" target=\"_parent\"><img src=\"https://colab.research.google.com/assets/colab-badge.svg\" alt=\"Open In Colab\"/></a>"
      ]
    },
    {
      "cell_type": "code",
      "execution_count": 16,
      "metadata": {
        "id": "CncSKJjjGyCc"
      },
      "outputs": [],
      "source": [
        "# Import libraries\n",
        "import pandas as pd\n",
        "import numpy as np\n",
        "import tensorflow as tf\n",
        "import matplotlib.pyplot as plt\n",
        "from tensorflow.python import train\n",
        "from sklearn.compose import make_column_transformer\n",
        "from sklearn.preprocessing import MinMaxScaler, OneHotEncoder\n",
        "from sklearn.model_selection import train_test_split"
      ]
    },
    {
      "cell_type": "code",
      "source": [
        "# Import dataset\n",
        "mRegion = pd.read_csv(\"/content/4mRegionsClean.csv\")"
      ],
      "metadata": {
        "id": "WmHtuwsBMtSF"
      },
      "execution_count": 17,
      "outputs": []
    },
    {
      "cell_type": "code",
      "source": [
        "# Create subset of data to use for DataFrame of results and predicted later\n",
        "matches = mRegion[[\"V16\", \"V8\", \"V25\", \"Opponents\"]]"
      ],
      "metadata": {
        "id": "EO99Fp_I72Hr"
      },
      "execution_count": 18,
      "outputs": []
    },
    {
      "cell_type": "code",
      "source": [
        "# Cleaning dataset of strings\n",
        "mRegion1 = mRegion.drop([\"Unnamed: 0\", \"V1\", \"V2\", \"V3\", \"V5\", \"V6\", \"V7\", \"V9\", \"V36\", \"V37\", \"V38\", \"V52\", \"V72\", \"V85\", \"V88\", \"V91\", \"V92\",\n",
        "                          \"V10\", \"V11\", \"V13\", \"V14\", \"V15\", \"V17\", \"V18\", \"Opponents\"], axis=1)"
      ],
      "metadata": {
        "id": "hHqXc0kMY71d"
      },
      "execution_count": 19,
      "outputs": []
    },
    {
      "cell_type": "code",
      "source": [
        "# Create rolling averages based on team passed in\n",
        "def rollingAverages(team, cols, newCols):\n",
        "    team = team.sort_values(\"V8\")\n",
        "    rollingStats = team[cols].rolling(32, closed=\"left\").mean()\n",
        "    team[newCols] = rollingStats\n",
        "    team = team.dropna(subset=newCols)\n",
        "    return team"
      ],
      "metadata": {
        "id": "vUmYRhwDRS-z"
      },
      "execution_count": 20,
      "outputs": []
    },
    {
      "cell_type": "code",
      "source": [
        "# Create subset of columns to run data on\n",
        "ct2 = [\"V24\", \"V26\", \"V27\", \"V28\", \"V29\", \"V30\", \"V31\", \"V32\", \"V33\", \"V34\", \"V35\",\"V39\",\"V40\", \"V41\", \"V42\",\n",
        "      \"V43\", \"V46\", \"V47\", \"V48\", \"V49\", \"V53\", \"V54\", \"V55\", \"V56\", \"V57\", \"V58\", \"V59\", \"V60\", \"V61\", \"V62\", \"V63\", \"V64\",\n",
        "      \"V65\", \"V68\", \"V69\", \"V70\", \"V71\", \"V73\", \"V74\", \"V75\", \"V76\", \"V77\", \"V78\", \"V79\", \"V80\", \"V81\", \"V82\", \"V83\", \"V84\", \"V86\", \"V87\",\n",
        "      \"V89\", \"V90\"]\n",
        "\n",
        "# Create rolling columns\n",
        "ct3 = [f\"{c}_rolling\" for c in ct2]\n",
        "\n",
        "# Making results count as an int\n",
        "mRegion1[\"V25\"] = (mRegion1[\"V25\"] == 1).astype(\"int\")\n",
        "\n",
        "# Create rolling values per team's data\n",
        "matchesRolling = mRegion1.groupby(\"V16\").apply(lambda a: rollingAverages(a, ct2, ct3))\n",
        "matchesRolling = matchesRolling.droplevel(\"V16\")\n",
        "\n",
        "# Create a column transformer \n",
        "ct = make_column_transformer(\n",
        "    (MinMaxScaler(), ct3), # turn all values in these columns between 0 and 1\n",
        "    (OneHotEncoder(handle_unknown=\"error\"), [\"V12\", \"V4\", \"V16\"]))\n",
        "\n",
        "# Create X and Y \n",
        "x = matchesRolling.drop([\"V25\"], axis=1)\n",
        "y = matchesRolling[\"V25\"]\n",
        "\n",
        "# Build our train and test sets \n",
        "xTrain, xTest, yTrain, yTest = train_test_split(x, y, test_size=0.2, random_state=42)\n",
        "\n",
        "# Fit the column transformer to our training data\n",
        "ct.fit(xTrain)\n",
        "\n",
        "# Transform training and test data with normalization (MinMaxScaler) and OneHotEncoder\n",
        "xTrainNormal = ct.transform(xTrain)\n",
        "xTestNormal = ct.transform(xTest)"
      ],
      "metadata": {
        "id": "SdadNWBFMCgz"
      },
      "execution_count": 21,
      "outputs": []
    },
    {
      "cell_type": "code",
      "source": [
        "# Build a neural network model for our data\n",
        "# Set the random seed\n",
        "tf.random.set_seed(42)\n",
        "\n",
        "# 1. Create a model\n",
        "leaguePredicter = tf.keras.Sequential([\n",
        "    tf.keras.layers.Dense(4, activation=\"relu\"),\n",
        "    tf.keras.layers.Dense(4, activation=\"relu\"),\n",
        "    tf.keras.layers.Dense(1, activation=\"sigmoid\")\n",
        "])\n",
        "\n",
        "# 2. Compile the model\n",
        "leaguePredicter.compile(loss=tf.keras.losses.BinaryCrossentropy(),\n",
        "               optimizer=tf.keras.optimizers.Adam(),\n",
        "               metrics=[\"accuracy\"])\n",
        "\n",
        "# 3. Fit the model\n",
        "history = leaguePredicter.fit(xTrainNormal, yTrain, epochs=150, verbose=0)"
      ],
      "metadata": {
        "id": "sJQmFN2qTYk1"
      },
      "execution_count": 22,
      "outputs": []
    },
    {
      "cell_type": "code",
      "source": [
        "# Evaluate league predicter model trained on normalized data\n",
        "leaguePredicterEvaluation = leaguePredicter.evaluate(xTestNormal, yTest)"
      ],
      "metadata": {
        "colab": {
          "base_uri": "https://localhost:8080/"
        },
        "id": "PgbhOlpgTY5W",
        "outputId": "2429777c-a761-4878-93ef-4bc1d2c51c78"
      },
      "execution_count": 23,
      "outputs": [
        {
          "output_type": "stream",
          "name": "stdout",
          "text": [
            "7/7 [==============================] - 0s 2ms/step - loss: 0.7357 - accuracy: 0.5421\n"
          ]
        }
      ]
    },
    {
      "cell_type": "code",
      "source": [
        "# Record model's predictions\n",
        "yPreds = leaguePredicter.predict(xTestNormal)\n",
        "\n",
        "# Convert from Prediction Probability to Integer\n",
        "yPredsRounded = tf.round(yPreds)"
      ],
      "metadata": {
        "id": "0N0u9Ja6SEB7"
      },
      "execution_count": 24,
      "outputs": []
    },
    {
      "cell_type": "code",
      "source": [
        "# Create variables to use in DataFrame\n",
        "actual = yTest\n",
        "predicted = pd.Series(tf.squeeze(tf.constant(yPredsRounded))).astype(\"int\")\n",
        "\n",
        "# Set predicted index to match yTest\n",
        "predicted.index = yTest.index"
      ],
      "metadata": {
        "id": "TfVfH4ge06lF"
      },
      "execution_count": 25,
      "outputs": []
    },
    {
      "cell_type": "code",
      "source": [
        "# Create DataFrame to compare predictions to actual results.\n",
        "combined = pd.DataFrame(dict(actual=actual, predicted=predicted))"
      ],
      "metadata": {
        "id": "1WgHl0xGMZ2v"
      },
      "execution_count": 26,
      "outputs": []
    },
    {
      "cell_type": "code",
      "source": [
        "# Better display\n",
        "combinedAttempt = combined.merge(matches[[\"V16\", \"V8\", \"V25\", \"Opponents\"]], left_index=True, right_index=True)"
      ],
      "metadata": {
        "id": "QxTjY9ze5XJ5"
      },
      "execution_count": 27,
      "outputs": []
    },
    {
      "cell_type": "code",
      "source": [
        "# Set up data to compare win rate per team\n",
        "mergedData = combinedAttempt.merge(combinedAttempt, left_on=[\"V8\", \"V16\"], right_on=[\"V8\",\"Opponents\"])"
      ],
      "metadata": {
        "id": "0NIjuIFNIc5b"
      },
      "execution_count": 28,
      "outputs": []
    },
    {
      "cell_type": "code",
      "source": [
        "mergedData[(mergedData[\"predicted_x\"] == 1) & (mergedData[\"predicted_y\"] == 0)][\"actual_x\"].value_counts() "
      ],
      "metadata": {
        "colab": {
          "base_uri": "https://localhost:8080/"
        },
        "id": "LPF0X_rFKDUF",
        "outputId": "af546f82-d42a-41df-f5f8-99cd3f696005"
      },
      "execution_count": 29,
      "outputs": [
        {
          "output_type": "execute_result",
          "data": {
            "text/plain": [
              "1    7\n",
              "0    2\n",
              "Name: actual_x, dtype: int64"
            ]
          },
          "metadata": {},
          "execution_count": 29
        }
      ]
    }
  ]
}